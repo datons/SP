{
 "cells": [
  {
   "cell_type": "markdown",
   "id": "bd4bc5c8",
   "metadata": {},
   "source": [
    "# Multiple linear regression with one categorical variable\n"
   ]
  },
  {
   "cell_type": "markdown",
   "id": "4c59aad4",
   "metadata": {
    "papermill": {
     "duration": 0.005093,
     "end_time": "2024-10-25T13:05:07.132456",
     "exception": false,
     "start_time": "2024-10-25T13:05:07.127363",
     "status": "completed"
    },
    "tags": []
   },
   "source": [
    "## Load data"
   ]
  },
  {
   "cell_type": "code",
   "execution_count": null,
   "id": "8fbaa8fe",
   "metadata": {},
   "outputs": [
    {
     "data": {
      "text/html": [
       "<div>\n",
       "<style scoped>\n",
       "    .dataframe tbody tr th:only-of-type {\n",
       "        vertical-align: middle;\n",
       "    }\n",
       "\n",
       "    .dataframe tbody tr th {\n",
       "        vertical-align: top;\n",
       "    }\n",
       "\n",
       "    .dataframe thead th {\n",
       "        text-align: right;\n",
       "    }\n",
       "</style>\n",
       "<table border=\"1\" class=\"dataframe\">\n",
       "  <thead>\n",
       "    <tr style=\"text-align: right;\">\n",
       "      <th></th>\n",
       "      <th>x_numeric</th>\n",
       "      <th>y_target</th>\n",
       "    </tr>\n",
       "  </thead>\n",
       "  <tbody>\n",
       "    <tr>\n",
       "      <th>0</th>\n",
       "      <td>10.00000</td>\n",
       "      <td>34.967142</td>\n",
       "    </tr>\n",
       "    <tr>\n",
       "      <th>1</th>\n",
       "      <td>10.04004</td>\n",
       "      <td>28.737477</td>\n",
       "    </tr>\n",
       "    <tr>\n",
       "      <th>...</th>\n",
       "      <td>...</td>\n",
       "      <td>...</td>\n",
       "    </tr>\n",
       "    <tr>\n",
       "      <th>998</th>\n",
       "      <td>49.95996</td>\n",
       "      <td>144.168090</td>\n",
       "    </tr>\n",
       "    <tr>\n",
       "      <th>999</th>\n",
       "      <td>50.00000</td>\n",
       "      <td>155.725828</td>\n",
       "    </tr>\n",
       "  </tbody>\n",
       "</table>\n",
       "<p>1000 rows × 2 columns</p>\n",
       "</div>"
      ],
      "text/plain": [
       "     x_numeric    y_target\n",
       "0     10.00000   34.967142\n",
       "1     10.04004   28.737477\n",
       "..         ...         ...\n",
       "998   49.95996  144.168090\n",
       "999   50.00000  155.725828\n",
       "\n",
       "[1000 rows x 2 columns]"
      ]
     },
     "execution_count": null,
     "metadata": {},
     "output_type": "execute_result"
    }
   ],
   "source": []
  },
  {
   "cell_type": "markdown",
   "id": "98a98fe1",
   "metadata": {},
   "source": [
    "## Feature selection"
   ]
  },
  {
   "cell_type": "code",
   "execution_count": null,
   "id": "28461c69",
   "metadata": {},
   "outputs": [],
   "source": []
  },
  {
   "cell_type": "markdown",
   "id": "fc62c32d",
   "metadata": {
    "papermill": {
     "duration": 0.005545,
     "end_time": "2024-10-25T13:05:07.161985",
     "exception": false,
     "start_time": "2024-10-25T13:05:07.156440",
     "status": "completed"
    },
    "tags": []
   },
   "source": [
    "## Linear regression\n",
    "\n",
    "### Fit"
   ]
  },
  {
   "cell_type": "code",
   "execution_count": null,
   "id": "b0d7ee88",
   "metadata": {},
   "outputs": [
    {
     "data": {
      "text/plain": [
       "'y_target ~ x_numeric'"
      ]
     },
     "execution_count": null,
     "metadata": {},
     "output_type": "execute_result"
    }
   ],
   "source": []
  },
  {
   "cell_type": "code",
   "execution_count": null,
   "id": "9ae4bbc1",
   "metadata": {
    "execution": {
     "iopub.execute_input": "2024-10-25T13:05:07.170814Z",
     "iopub.status.busy": "2024-10-25T13:05:07.170181Z",
     "iopub.status.idle": "2024-10-25T13:05:07.556518Z",
     "shell.execute_reply": "2024-10-25T13:05:07.556100Z"
    },
    "papermill": {
     "duration": 0.391285,
     "end_time": "2024-10-25T13:05:07.557412",
     "exception": false,
     "start_time": "2024-10-25T13:05:07.166127",
     "status": "completed"
    },
    "tags": []
   },
   "outputs": [
    {
     "data": {
      "text/html": [
       "<table class=\"simpletable\">\n",
       "<caption>OLS Regression Results</caption>\n",
       "<tr>\n",
       "  <th>Dep. Variable:</th>        <td>y_target</td>     <th>  R-squared:         </th> <td>   0.928</td> \n",
       "</tr>\n",
       "<tr>\n",
       "  <th>Model:</th>                   <td>OLS</td>       <th>  Adj. R-squared:    </th> <td>   0.928</td> \n",
       "</tr>\n",
       "<tr>\n",
       "  <th>Method:</th>             <td>Least Squares</td>  <th>  F-statistic:       </th> <td>1.280e+04</td>\n",
       "</tr>\n",
       "<tr>\n",
       "  <th>Date:</th>             <td>Sun, 27 Oct 2024</td> <th>  Prob (F-statistic):</th>  <td>  0.00</td>  \n",
       "</tr>\n",
       "<tr>\n",
       "  <th>Time:</th>                 <td>14:56:59</td>     <th>  Log-Likelihood:    </th> <td> -3699.4</td> \n",
       "</tr>\n",
       "<tr>\n",
       "  <th>No. Observations:</th>      <td>  1000</td>      <th>  AIC:               </th> <td>   7403.</td> \n",
       "</tr>\n",
       "<tr>\n",
       "  <th>Df Residuals:</th>          <td>   998</td>      <th>  BIC:               </th> <td>   7413.</td> \n",
       "</tr>\n",
       "<tr>\n",
       "  <th>Df Model:</th>              <td>     1</td>      <th>                     </th>     <td> </td>    \n",
       "</tr>\n",
       "<tr>\n",
       "  <th>Covariance Type:</th>      <td>nonrobust</td>    <th>                     </th>     <td> </td>    \n",
       "</tr>\n",
       "</table>\n",
       "<table class=\"simpletable\">\n",
       "<tr>\n",
       "      <td></td>         <th>coef</th>     <th>std err</th>      <th>t</th>      <th>P>|t|</th>  <th>[0.025</th>    <th>0.975]</th>  \n",
       "</tr>\n",
       "<tr>\n",
       "  <th>Intercept</th> <td>   -0.7081</td> <td>    0.861</td> <td>   -0.822</td> <td> 0.411</td> <td>   -2.398</td> <td>    0.982</td>\n",
       "</tr>\n",
       "<tr>\n",
       "  <th>x_numeric</th> <td>    3.0300</td> <td>    0.027</td> <td>  113.118</td> <td> 0.000</td> <td>    2.977</td> <td>    3.083</td>\n",
       "</tr>\n",
       "</table>\n",
       "<table class=\"simpletable\">\n",
       "<tr>\n",
       "  <th>Omnibus:</th>       <td> 2.591</td> <th>  Durbin-Watson:     </th> <td>   2.017</td>\n",
       "</tr>\n",
       "<tr>\n",
       "  <th>Prob(Omnibus):</th> <td> 0.274</td> <th>  Jarque-Bera (JB):  </th> <td>   2.466</td>\n",
       "</tr>\n",
       "<tr>\n",
       "  <th>Skew:</th>          <td> 0.116</td> <th>  Prob(JB):          </th> <td>   0.291</td>\n",
       "</tr>\n",
       "<tr>\n",
       "  <th>Kurtosis:</th>      <td> 3.073</td> <th>  Cond. No.          </th> <td>    89.5</td>\n",
       "</tr>\n",
       "</table><br/><br/>Notes:<br/>[1] Standard Errors assume that the covariance matrix of the errors is correctly specified."
      ],
      "text/latex": [
       "\\begin{center}\n",
       "\\begin{tabular}{lclc}\n",
       "\\toprule\n",
       "\\textbf{Dep. Variable:}    &    y\\_target     & \\textbf{  R-squared:         } &     0.928   \\\\\n",
       "\\textbf{Model:}            &       OLS        & \\textbf{  Adj. R-squared:    } &     0.928   \\\\\n",
       "\\textbf{Method:}           &  Least Squares   & \\textbf{  F-statistic:       } & 1.280e+04   \\\\\n",
       "\\textbf{Date:}             & Sun, 27 Oct 2024 & \\textbf{  Prob (F-statistic):} &     0.00    \\\\\n",
       "\\textbf{Time:}             &     14:56:59     & \\textbf{  Log-Likelihood:    } &   -3699.4   \\\\\n",
       "\\textbf{No. Observations:} &        1000      & \\textbf{  AIC:               } &     7403.   \\\\\n",
       "\\textbf{Df Residuals:}     &         998      & \\textbf{  BIC:               } &     7413.   \\\\\n",
       "\\textbf{Df Model:}         &           1      & \\textbf{                     } &             \\\\\n",
       "\\textbf{Covariance Type:}  &    nonrobust     & \\textbf{                     } &             \\\\\n",
       "\\bottomrule\n",
       "\\end{tabular}\n",
       "\\begin{tabular}{lcccccc}\n",
       "                    & \\textbf{coef} & \\textbf{std err} & \\textbf{t} & \\textbf{P$> |$t$|$} & \\textbf{[0.025} & \\textbf{0.975]}  \\\\\n",
       "\\midrule\n",
       "\\textbf{Intercept}  &      -0.7081  &        0.861     &    -0.822  &         0.411        &       -2.398    &        0.982     \\\\\n",
       "\\textbf{x\\_numeric} &       3.0300  &        0.027     &   113.118  &         0.000        &        2.977    &        3.083     \\\\\n",
       "\\bottomrule\n",
       "\\end{tabular}\n",
       "\\begin{tabular}{lclc}\n",
       "\\textbf{Omnibus:}       &  2.591 & \\textbf{  Durbin-Watson:     } &    2.017  \\\\\n",
       "\\textbf{Prob(Omnibus):} &  0.274 & \\textbf{  Jarque-Bera (JB):  } &    2.466  \\\\\n",
       "\\textbf{Skew:}          &  0.116 & \\textbf{  Prob(JB):          } &    0.291  \\\\\n",
       "\\textbf{Kurtosis:}      &  3.073 & \\textbf{  Cond. No.          } &     89.5  \\\\\n",
       "\\bottomrule\n",
       "\\end{tabular}\n",
       "%\\caption{OLS Regression Results}\n",
       "\\end{center}\n",
       "\n",
       "Notes: \\newline\n",
       " [1] Standard Errors assume that the covariance matrix of the errors is correctly specified."
      ],
      "text/plain": [
       "<class 'statsmodels.iolib.summary.Summary'>\n",
       "\"\"\"\n",
       "                            OLS Regression Results                            \n",
       "==============================================================================\n",
       "Dep. Variable:               y_target   R-squared:                       0.928\n",
       "Model:                            OLS   Adj. R-squared:                  0.928\n",
       "Method:                 Least Squares   F-statistic:                 1.280e+04\n",
       "Date:                Sun, 27 Oct 2024   Prob (F-statistic):               0.00\n",
       "Time:                        14:56:59   Log-Likelihood:                -3699.4\n",
       "No. Observations:                1000   AIC:                             7403.\n",
       "Df Residuals:                     998   BIC:                             7413.\n",
       "Df Model:                           1                                         \n",
       "Covariance Type:            nonrobust                                         \n",
       "==============================================================================\n",
       "                 coef    std err          t      P>|t|      [0.025      0.975]\n",
       "------------------------------------------------------------------------------\n",
       "Intercept     -0.7081      0.861     -0.822      0.411      -2.398       0.982\n",
       "x_numeric      3.0300      0.027    113.118      0.000       2.977       3.083\n",
       "==============================================================================\n",
       "Omnibus:                        2.591   Durbin-Watson:                   2.017\n",
       "Prob(Omnibus):                  0.274   Jarque-Bera (JB):                2.466\n",
       "Skew:                           0.116   Prob(JB):                        0.291\n",
       "Kurtosis:                       3.073   Cond. No.                         89.5\n",
       "==============================================================================\n",
       "\n",
       "Notes:\n",
       "[1] Standard Errors assume that the covariance matrix of the errors is correctly specified.\n",
       "\"\"\""
      ]
     },
     "execution_count": null,
     "metadata": {},
     "output_type": "execute_result"
    }
   ],
   "source": []
  },
  {
   "cell_type": "markdown",
   "id": "bb61b58d",
   "metadata": {
    "papermill": {
     "duration": 0.002802,
     "end_time": "2024-10-25T13:05:07.563046",
     "exception": false,
     "start_time": "2024-10-25T13:05:07.560244",
     "status": "completed"
    },
    "tags": []
   },
   "source": [
    "### Formula"
   ]
  },
  {
   "cell_type": "code",
   "execution_count": null,
   "id": "4447b464",
   "metadata": {},
   "outputs": [
    {
     "data": {
      "text/plain": [
       "Intercept   -0.708059\n",
       "x_numeric    3.030046\n",
       "dtype: float64"
      ]
     },
     "execution_count": null,
     "metadata": {},
     "output_type": "execute_result"
    }
   ],
   "source": []
  },
  {
   "cell_type": "code",
   "execution_count": null,
   "id": "6359f1d0",
   "metadata": {},
   "outputs": [
    {
     "data": {
      "text/plain": [
       "['-0.71 \\\\cdot (Intercept)', '3.03 \\\\cdot (x\\\\_numeric)']"
      ]
     },
     "execution_count": null,
     "metadata": {},
     "output_type": "execute_result"
    }
   ],
   "source": []
  },
  {
   "cell_type": "code",
   "execution_count": null,
   "id": "d57f263e",
   "metadata": {},
   "outputs": [
    {
     "data": {
      "text/plain": [
       "'$y = -0.71 \\\\cdot (Intercept) + 3.03 \\\\cdot (x\\\\_numeric)$'"
      ]
     },
     "execution_count": null,
     "metadata": {},
     "output_type": "execute_result"
    }
   ],
   "source": []
  },
  {
   "cell_type": "markdown",
   "id": "80195a2d",
   "metadata": {
    "papermill": {
     "duration": 0.002369,
     "end_time": "2024-10-25T13:05:07.577167",
     "exception": false,
     "start_time": "2024-10-25T13:05:07.574798",
     "status": "completed"
    },
    "tags": []
   },
   "source": [
    "### Predictions\n",
    "Use optimized numbers from mathematical equation to calculate predictions."
   ]
  },
  {
   "cell_type": "code",
   "execution_count": null,
   "id": "f7a0ad27",
   "metadata": {},
   "outputs": [
    {
     "data": {
      "text/html": [
       "<div>\n",
       "<style scoped>\n",
       "    .dataframe tbody tr th:only-of-type {\n",
       "        vertical-align: middle;\n",
       "    }\n",
       "\n",
       "    .dataframe tbody tr th {\n",
       "        vertical-align: top;\n",
       "    }\n",
       "\n",
       "    .dataframe thead th {\n",
       "        text-align: right;\n",
       "    }\n",
       "</style>\n",
       "<table border=\"1\" class=\"dataframe\">\n",
       "  <thead>\n",
       "    <tr style=\"text-align: right;\">\n",
       "      <th></th>\n",
       "      <th>x_numeric</th>\n",
       "    </tr>\n",
       "  </thead>\n",
       "  <tbody>\n",
       "    <tr>\n",
       "      <th>0</th>\n",
       "      <td>10.00000</td>\n",
       "    </tr>\n",
       "    <tr>\n",
       "      <th>1</th>\n",
       "      <td>10.04004</td>\n",
       "    </tr>\n",
       "    <tr>\n",
       "      <th>...</th>\n",
       "      <td>...</td>\n",
       "    </tr>\n",
       "    <tr>\n",
       "      <th>998</th>\n",
       "      <td>49.95996</td>\n",
       "    </tr>\n",
       "    <tr>\n",
       "      <th>999</th>\n",
       "      <td>50.00000</td>\n",
       "    </tr>\n",
       "  </tbody>\n",
       "</table>\n",
       "<p>1000 rows × 1 columns</p>\n",
       "</div>"
      ],
      "text/plain": [
       "     x_numeric\n",
       "0     10.00000\n",
       "1     10.04004\n",
       "..         ...\n",
       "998   49.95996\n",
       "999   50.00000\n",
       "\n",
       "[1000 rows x 1 columns]"
      ]
     },
     "execution_count": null,
     "metadata": {},
     "output_type": "execute_result"
    }
   ],
   "source": []
  },
  {
   "cell_type": "code",
   "execution_count": null,
   "id": "10c2f41b",
   "metadata": {
    "execution": {
     "iopub.execute_input": "2024-10-25T13:05:07.587777Z",
     "iopub.status.busy": "2024-10-25T13:05:07.587588Z",
     "iopub.status.idle": "2024-10-25T13:05:07.592410Z",
     "shell.execute_reply": "2024-10-25T13:05:07.592195Z"
    },
    "papermill": {
     "duration": 0.008389,
     "end_time": "2024-10-25T13:05:07.593105",
     "exception": false,
     "start_time": "2024-10-25T13:05:07.584716",
     "status": "completed"
    },
    "tags": []
   },
   "outputs": [
    {
     "data": {
      "text/html": [
       "<div>\n",
       "<style scoped>\n",
       "    .dataframe tbody tr th:only-of-type {\n",
       "        vertical-align: middle;\n",
       "    }\n",
       "\n",
       "    .dataframe tbody tr th {\n",
       "        vertical-align: top;\n",
       "    }\n",
       "\n",
       "    .dataframe thead th {\n",
       "        text-align: right;\n",
       "    }\n",
       "</style>\n",
       "<table border=\"1\" class=\"dataframe\">\n",
       "  <thead>\n",
       "    <tr style=\"text-align: right;\">\n",
       "      <th></th>\n",
       "      <th>x_numeric</th>\n",
       "      <th>y_target</th>\n",
       "      <th>y_pred</th>\n",
       "    </tr>\n",
       "  </thead>\n",
       "  <tbody>\n",
       "    <tr>\n",
       "      <th>0</th>\n",
       "      <td>10.00000</td>\n",
       "      <td>34.967142</td>\n",
       "      <td>29.592401</td>\n",
       "    </tr>\n",
       "    <tr>\n",
       "      <th>1</th>\n",
       "      <td>10.04004</td>\n",
       "      <td>28.737477</td>\n",
       "      <td>29.713724</td>\n",
       "    </tr>\n",
       "    <tr>\n",
       "      <th>...</th>\n",
       "      <td>...</td>\n",
       "      <td>...</td>\n",
       "      <td>...</td>\n",
       "    </tr>\n",
       "    <tr>\n",
       "      <th>998</th>\n",
       "      <td>49.95996</td>\n",
       "      <td>144.168090</td>\n",
       "      <td>150.672917</td>\n",
       "    </tr>\n",
       "    <tr>\n",
       "      <th>999</th>\n",
       "      <td>50.00000</td>\n",
       "      <td>155.725828</td>\n",
       "      <td>150.794240</td>\n",
       "    </tr>\n",
       "  </tbody>\n",
       "</table>\n",
       "<p>1000 rows × 3 columns</p>\n",
       "</div>"
      ],
      "text/plain": [
       "     x_numeric    y_target      y_pred\n",
       "0     10.00000   34.967142   29.592401\n",
       "1     10.04004   28.737477   29.713724\n",
       "..         ...         ...         ...\n",
       "998   49.95996  144.168090  150.672917\n",
       "999   50.00000  155.725828  150.794240\n",
       "\n",
       "[1000 rows x 3 columns]"
      ]
     },
     "execution_count": null,
     "metadata": {},
     "output_type": "execute_result"
    }
   ],
   "source": []
  },
  {
   "cell_type": "markdown",
   "id": "633db9af",
   "metadata": {},
   "source": [
    "### Evaluate: R-squared\n",
    "\n",
    "The prediction is not perfect because there is a difference between predicted and actual values; ie. error.\n"
   ]
  },
  {
   "cell_type": "code",
   "execution_count": null,
   "id": "96919cf2",
   "metadata": {},
   "outputs": [
    {
     "data": {
      "text/html": [
       "<div>\n",
       "<style scoped>\n",
       "    .dataframe tbody tr th:only-of-type {\n",
       "        vertical-align: middle;\n",
       "    }\n",
       "\n",
       "    .dataframe tbody tr th {\n",
       "        vertical-align: top;\n",
       "    }\n",
       "\n",
       "    .dataframe thead th {\n",
       "        text-align: right;\n",
       "    }\n",
       "</style>\n",
       "<table border=\"1\" class=\"dataframe\">\n",
       "  <thead>\n",
       "    <tr style=\"text-align: right;\">\n",
       "      <th></th>\n",
       "      <th>x_numeric</th>\n",
       "      <th>y_target</th>\n",
       "      <th>y_pred</th>\n",
       "      <th>error</th>\n",
       "      <th>error2</th>\n",
       "    </tr>\n",
       "  </thead>\n",
       "  <tbody>\n",
       "    <tr>\n",
       "      <th>0</th>\n",
       "      <td>10.00000</td>\n",
       "      <td>34.967142</td>\n",
       "      <td>29.592401</td>\n",
       "      <td>5.374741</td>\n",
       "      <td>28.887839</td>\n",
       "    </tr>\n",
       "    <tr>\n",
       "      <th>1</th>\n",
       "      <td>10.04004</td>\n",
       "      <td>28.737477</td>\n",
       "      <td>29.713724</td>\n",
       "      <td>-0.976247</td>\n",
       "      <td>0.953058</td>\n",
       "    </tr>\n",
       "    <tr>\n",
       "      <th>...</th>\n",
       "      <td>...</td>\n",
       "      <td>...</td>\n",
       "      <td>...</td>\n",
       "      <td>...</td>\n",
       "      <td>...</td>\n",
       "    </tr>\n",
       "    <tr>\n",
       "      <th>998</th>\n",
       "      <td>49.95996</td>\n",
       "      <td>144.168090</td>\n",
       "      <td>150.672917</td>\n",
       "      <td>-6.504827</td>\n",
       "      <td>42.312778</td>\n",
       "    </tr>\n",
       "    <tr>\n",
       "      <th>999</th>\n",
       "      <td>50.00000</td>\n",
       "      <td>155.725828</td>\n",
       "      <td>150.794240</td>\n",
       "      <td>4.931587</td>\n",
       "      <td>24.320554</td>\n",
       "    </tr>\n",
       "  </tbody>\n",
       "</table>\n",
       "<p>1000 rows × 5 columns</p>\n",
       "</div>"
      ],
      "text/plain": [
       "     x_numeric    y_target      y_pred     error     error2\n",
       "0     10.00000   34.967142   29.592401  5.374741  28.887839\n",
       "1     10.04004   28.737477   29.713724 -0.976247   0.953058\n",
       "..         ...         ...         ...       ...        ...\n",
       "998   49.95996  144.168090  150.672917 -6.504827  42.312778\n",
       "999   50.00000  155.725828  150.794240  4.931587  24.320554\n",
       "\n",
       "[1000 rows x 5 columns]"
      ]
     },
     "execution_count": null,
     "metadata": {},
     "output_type": "execute_result"
    }
   ],
   "source": []
  },
  {
   "cell_type": "code",
   "execution_count": null,
   "id": "6fa52298",
   "metadata": {},
   "outputs": [
    {
     "data": {
      "text/plain": [
       "9.781098596598284"
      ]
     },
     "execution_count": null,
     "metadata": {},
     "output_type": "execute_result"
    }
   ],
   "source": []
  },
  {
   "cell_type": "code",
   "execution_count": null,
   "id": "8efcd5fd",
   "metadata": {},
   "outputs": [
    {
     "data": {
      "text/plain": [
       "0.9277200157888468"
      ]
     },
     "execution_count": null,
     "metadata": {},
     "output_type": "execute_result"
    }
   ],
   "source": []
  },
  {
   "cell_type": "markdown",
   "id": "20d8c036",
   "metadata": {},
   "source": [
    "### Interpretation"
   ]
  },
  {
   "cell_type": "code",
   "execution_count": null,
   "id": "e9009738",
   "metadata": {},
   "outputs": [
    {
     "data": {
      "image/png": "[encoded data removed]",
      "text/plain": [
       "<Figure size 640x480 with 1 Axes>"
      ]
     },
     "execution_count": null,
     "metadata": {},
     "output_type": "display_data"
    }
   ],
   "source": []
  },
  {
   "cell_type": "code",
   "execution_count": null,
   "id": "1a978c22",
   "metadata": {},
   "outputs": [
    {
     "data": {
      "text/plain": [
       "9.781098596598284"
      ]
     },
     "execution_count": null,
     "metadata": {},
     "output_type": "execute_result"
    }
   ],
   "source": []
  },
  {
   "cell_type": "markdown",
   "id": "9a204b7d",
   "metadata": {},
   "source": [
    "$$\n",
    "\\text{RMSE} = \\sigma = \\sqrt{\\frac{1}{N}\\sum_{i=1}^{N}(y_i - \\hat{y}_i)^2}\n",
    "$$"
   ]
  },
  {
   "cell_type": "markdown",
   "id": "6c65a3b3",
   "metadata": {},
   "source": [
    "<img src=\"https://upload.wikimedia.org/wikipedia/commons/3/3a/Standard_deviation_diagram_micro.svg\" style=\"background-color:white;\">"
   ]
  },
  {
   "cell_type": "markdown",
   "id": "1f42670e",
   "metadata": {
    "papermill": {
     "duration": 0.002564,
     "end_time": "2024-10-25T13:05:07.607741",
     "exception": false,
     "start_time": "2024-10-25T13:05:07.605177",
     "status": "completed"
    },
    "tags": []
   },
   "source": [
    "### Visualize"
   ]
  },
  {
   "cell_type": "code",
   "execution_count": null,
   "id": "684e4db7",
   "metadata": {},
   "outputs": [
    {
     "data": {
      "text/plain": [
       "'$y = -0.71 \\\\cdot (Intercept) + 3.03 \\\\cdot (x\\\\_numeric)$\\nRMSE = 9.78\\nR2 = 0.93'"
      ]
     },
     "execution_count": null,
     "metadata": {},
     "output_type": "execute_result"
    }
   ],
   "source": []
  },
  {
   "cell_type": "code",
   "execution_count": null,
   "id": "b0df0f99",
   "metadata": {
    "execution": {
     "iopub.execute_input": "2024-10-25T13:05:08.059679Z",
     "iopub.status.busy": "2024-10-25T13:05:08.059535Z",
     "iopub.status.idle": "2024-10-25T13:05:08.182579Z",
     "shell.execute_reply": "2024-10-25T13:05:08.182289Z"
    },
    "papermill": {
     "duration": 0.127741,
     "end_time": "2024-10-25T13:05:08.183387",
     "exception": false,
     "start_time": "2024-10-25T13:05:08.055646",
     "status": "completed"
    },
    "tags": []
   },
   "outputs": [
    {
     "data": {
      "image/png": "[encoded data removed]",
      "text/plain": [
       "<Figure size 640x480 with 1 Axes>"
      ]
     },
     "execution_count": null,
     "metadata": {},
     "output_type": "display_data"
    }
   ],
   "source": []
  },
  {
   "cell_type": "markdown",
   "id": "d73f9681",
   "metadata": {
    "papermill": {
     "duration": 0.005611,
     "end_time": "2024-10-25T13:05:09.706492",
     "exception": false,
     "start_time": "2024-10-25T13:05:09.700881",
     "status": "completed"
    },
    "tags": []
   },
   "source": [
    "### Assumptions\n",
    "\n",
    "1. Linearity\n",
    "2. Independence\n",
    "3. Normality\n",
    "4. Equal variance\n",
    "5. No multicollinearity"
   ]
  },
  {
   "cell_type": "code",
   "execution_count": null,
   "id": "7c67ceb6",
   "metadata": {
    "execution": {
     "iopub.execute_input": "2024-10-25T13:05:09.718132Z",
     "iopub.status.busy": "2024-10-25T13:05:09.717938Z",
     "iopub.status.idle": "2024-10-25T13:05:09.719604Z",
     "shell.execute_reply": "2024-10-25T13:05:09.719415Z"
    },
    "papermill": {
     "duration": 0.008346,
     "end_time": "2024-10-25T13:05:09.720294",
     "exception": false,
     "start_time": "2024-10-25T13:05:09.711948",
     "status": "completed"
    },
    "tags": []
   },
   "outputs": [
    {
     "data": {
      "text/plain": [
       "0      5.374741\n",
       "1     -0.976247\n",
       "         ...   \n",
       "998   -6.504827\n",
       "999    4.931587\n",
       "Name: error, Length: 1000, dtype: float64"
      ]
     },
     "execution_count": null,
     "metadata": {},
     "output_type": "execute_result"
    }
   ],
   "source": []
  },
  {
   "cell_type": "markdown",
   "id": "eb7cc206",
   "metadata": {
    "papermill": {
     "duration": 0.005266,
     "end_time": "2024-10-25T13:05:09.731194",
     "exception": false,
     "start_time": "2024-10-25T13:05:09.725928",
     "status": "completed"
    },
    "tags": []
   },
   "source": [
    "#### Normality of residuals"
   ]
  },
  {
   "cell_type": "code",
   "execution_count": null,
   "id": "2533ea4a",
   "metadata": {
    "execution": {
     "iopub.execute_input": "2024-10-25T13:05:09.742174Z",
     "iopub.status.busy": "2024-10-25T13:05:09.742018Z",
     "iopub.status.idle": "2024-10-25T13:05:09.839379Z",
     "shell.execute_reply": "2024-10-25T13:05:09.838987Z"
    },
    "papermill": {
     "duration": 0.103727,
     "end_time": "2024-10-25T13:05:09.840293",
     "exception": false,
     "start_time": "2024-10-25T13:05:09.736566",
     "status": "completed"
    },
    "tags": []
   },
   "outputs": [
    {
     "data": {
      "image/png": "[encoded data removed]",
      "text/plain": [
       "<Figure size 800x400 with 2 Axes>"
      ]
     },
     "execution_count": null,
     "metadata": {},
     "output_type": "display_data"
    }
   ],
   "source": []
  },
  {
   "cell_type": "markdown",
   "id": "a7213705",
   "metadata": {
    "papermill": {
     "duration": 0.007042,
     "end_time": "2024-10-25T13:05:09.854997",
     "exception": false,
     "start_time": "2024-10-25T13:05:09.847955",
     "status": "completed"
    },
    "tags": []
   },
   "source": [
    "1. **Shapiro-Wilk Test**\n",
    "\n",
    "   - **When**: Small to moderate sample sizes (n < 2000).\n",
    "   - **Why**: Powerful for detecting general deviations from normality.\n",
    "   - **Example**: Small experimental datasets in psychology or biology.\n",
    "\n",
    "2. **Kolmogorov-Smirnov (K-S) Test**\n",
    "\n",
    "   - **When**: Large sample sizes (n > 2000).\n",
    "   - **Why**: Good for general normality checks, particularly in large datasets.\n",
    "   - **Example**: Large survey or population data.\n",
    "\n",
    "3. **Anderson-Darling Test**\n",
    "\n",
    "   - **When**: Concerned about deviations in the tails of the distribution.\n",
    "   - **Why**: More sensitive to issues in the tails than other tests.\n",
    "   - **Example**: Financial data with potential outliers.\n",
    "\n",
    "4. **D’Agostino and Pearson’s Test**\n",
    "\n",
    "   - **When**: Interested in skewness or kurtosis.\n",
    "   - **Why**: Tests for both skewness and kurtosis (asymmetry and peakedness).\n",
    "   - **Example**: Social science or psychology data where the shape of the distribution matters."
   ]
  },
  {
   "cell_type": "code",
   "execution_count": null,
   "id": "a3037f3d",
   "metadata": {
    "execution": {
     "iopub.execute_input": "2024-10-25T13:05:09.867965Z",
     "iopub.status.busy": "2024-10-25T13:05:09.867837Z",
     "iopub.status.idle": "2024-10-25T13:05:09.870309Z",
     "shell.execute_reply": "2024-10-25T13:05:09.870088Z"
    },
    "papermill": {
     "duration": 0.009689,
     "end_time": "2024-10-25T13:05:09.871030",
     "exception": false,
     "start_time": "2024-10-25T13:05:09.861341",
     "status": "completed"
    },
    "tags": []
   },
   "outputs": [
    {
     "execution_count": null,
     "name": "stdout",
     "output_type": "stream",
     "text": [
      "Shapiro-Wilk Test statistic: 0.9987, p-value: 0.6717\n"
     ]
    }
   ],
   "source": []
  },
  {
   "cell_type": "markdown",
   "id": "911a7fc4",
   "metadata": {
    "papermill": {
     "duration": 0.006385,
     "end_time": "2024-10-25T13:05:09.883507",
     "exception": false,
     "start_time": "2024-10-25T13:05:09.877122",
     "status": "completed"
    },
    "tags": []
   },
   "source": [
    "#### Residuals vs. Predictions\n",
    "\n",
    "A residual plot helps detect non-linear relationships by plotting the residuals (errors) against the predicted (fitted) values. If the relationship is linear, the residuals should be randomly scattered around zero, with no distinct pattern. Any visible pattern, such as a curve or funnel shape, suggests non-linearity."
   ]
  },
  {
   "cell_type": "code",
   "execution_count": null,
   "id": "60332832",
   "metadata": {
    "execution": {
     "iopub.execute_input": "2024-10-25T13:05:09.896998Z",
     "iopub.status.busy": "2024-10-25T13:05:09.896878Z",
     "iopub.status.idle": "2024-10-25T13:05:09.958955Z",
     "shell.execute_reply": "2024-10-25T13:05:09.958661Z"
    },
    "papermill": {
     "duration": 0.07028,
     "end_time": "2024-10-25T13:05:09.959956",
     "exception": false,
     "start_time": "2024-10-25T13:05:09.889676",
     "status": "completed"
    },
    "tags": []
   },
   "outputs": [
    {
     "data": {
      "image/png": "[encoded data removed]",
      "text/plain": [
       "<Figure size 800x600 with 1 Axes>"
      ]
     },
     "execution_count": null,
     "metadata": {},
     "output_type": "display_data"
    }
   ],
   "source": []
  },
  {
   "cell_type": "markdown",
   "id": "b2c5a654",
   "metadata": {
    "papermill": {
     "duration": 0.006543,
     "end_time": "2024-10-25T13:05:09.973629",
     "exception": false,
     "start_time": "2024-10-25T13:05:09.967086",
     "status": "completed"
    },
    "tags": []
   },
   "source": [
    "#### Homoscedasticity (Equal variance)\n",
    "\n"
   ]
  },
  {
   "cell_type": "markdown",
   "id": "10003d29",
   "metadata": {
    "papermill": {
     "duration": 0.006325,
     "end_time": "2024-10-25T13:05:09.986559",
     "exception": false,
     "start_time": "2024-10-25T13:05:09.980234",
     "status": "completed"
    },
    "tags": []
   },
   "source": [
    "The Breusch-Pagan test examines whether the variance of the residuals is dependent on the fitted values. The null hypothesis is that the residuals are homoscedastic (i.e., their variance is constant)."
   ]
  },
  {
   "cell_type": "code",
   "execution_count": null,
   "id": "af2c6ac0",
   "metadata": {
    "execution": {
     "iopub.execute_input": "2024-10-25T13:05:09.998921Z",
     "iopub.status.busy": "2024-10-25T13:05:09.998785Z",
     "iopub.status.idle": "2024-10-25T13:05:10.004684Z",
     "shell.execute_reply": "2024-10-25T13:05:10.004478Z"
    },
    "papermill": {
     "duration": 0.013179,
     "end_time": "2024-10-25T13:05:10.005426",
     "exception": false,
     "start_time": "2024-10-25T13:05:09.992247",
     "status": "completed"
    },
    "tags": []
   },
   "outputs": [
    {
     "data": {
      "text/html": [
       "<div>\n",
       "<style scoped>\n",
       "    .dataframe tbody tr th:only-of-type {\n",
       "        vertical-align: middle;\n",
       "    }\n",
       "\n",
       "    .dataframe tbody tr th {\n",
       "        vertical-align: top;\n",
       "    }\n",
       "\n",
       "    .dataframe thead th {\n",
       "        text-align: right;\n",
       "    }\n",
       "</style>\n",
       "<table border=\"1\" class=\"dataframe\">\n",
       "  <thead>\n",
       "    <tr style=\"text-align: right;\">\n",
       "      <th></th>\n",
       "      <th>Breusch-Pagan test</th>\n",
       "    </tr>\n",
       "  </thead>\n",
       "  <tbody>\n",
       "    <tr>\n",
       "      <th>Lagrange multiplier statistic</th>\n",
       "      <td>0.040845</td>\n",
       "    </tr>\n",
       "    <tr>\n",
       "      <th>p-value</th>\n",
       "      <td>0.839837</td>\n",
       "    </tr>\n",
       "    <tr>\n",
       "      <th>F-value</th>\n",
       "      <td>0.040765</td>\n",
       "    </tr>\n",
       "    <tr>\n",
       "      <th>F p-value</th>\n",
       "      <td>0.840033</td>\n",
       "    </tr>\n",
       "  </tbody>\n",
       "</table>\n",
       "</div>"
      ],
      "text/plain": [
       "                               Breusch-Pagan test\n",
       "Lagrange multiplier statistic            0.040845\n",
       "p-value                                  0.839837\n",
       "F-value                                  0.040765\n",
       "F p-value                                0.840033"
      ]
     },
     "execution_count": null,
     "metadata": {},
     "output_type": "execute_result"
    }
   ],
   "source": []
  },
  {
   "cell_type": "markdown",
   "id": "18ff2938",
   "metadata": {
    "papermill": {
     "duration": 0.005535,
     "end_time": "2024-10-25T13:05:10.017170",
     "exception": false,
     "start_time": "2024-10-25T13:05:10.011635",
     "status": "completed"
    },
    "tags": []
   },
   "source": [
    "Interpretation:\n",
    "- p-value > 0.05: Fail to reject the null hypothesis (assume homoscedasticity).\n",
    "- p-value < 0.05: Reject the null hypothesis, indicating heteroscedasticity."
   ]
  },
  {
   "cell_type": "markdown",
   "id": "7be9afc2",
   "metadata": {
    "papermill": {
     "duration": 0.006585,
     "end_time": "2024-10-25T13:05:10.029217",
     "exception": false,
     "start_time": "2024-10-25T13:05:10.022632",
     "status": "completed"
    },
    "tags": []
   },
   "source": [
    "#### Multicollinearity"
   ]
  },
  {
   "cell_type": "code",
   "execution_count": null,
   "id": "d2930201",
   "metadata": {
    "execution": {
     "iopub.execute_input": "2024-10-25T13:05:10.041082Z",
     "iopub.status.busy": "2024-10-25T13:05:10.040874Z",
     "iopub.status.idle": "2024-10-25T13:05:10.048658Z",
     "shell.execute_reply": "2024-10-25T13:05:10.048412Z"
    },
    "papermill": {
     "duration": 0.01455,
     "end_time": "2024-10-25T13:05:10.049407",
     "exception": false,
     "start_time": "2024-10-25T13:05:10.034857",
     "status": "completed"
    },
    "tags": []
   },
   "outputs": [
    {
     "data": {
      "text/html": [
       "<style type=\"text/css\">\n",
       "</style>\n",
       "<table id=\"T_8ba11\">\n",
       "  <thead>\n",
       "    <tr>\n",
       "      <th class=\"blank level0\" >&nbsp;</th>\n",
       "      <th id=\"T_8ba11_level0_col0\" class=\"col_heading level0 col0\" >VIF</th>\n",
       "    </tr>\n",
       "  </thead>\n",
       "  <tbody>\n",
       "    <tr>\n",
       "      <th id=\"T_8ba11_level0_row0\" class=\"row_heading level0 row0\" >const</th>\n",
       "      <td id=\"T_8ba11_row0_col0\" class=\"data row0 col0\" >7.529440</td>\n",
       "    </tr>\n",
       "    <tr>\n",
       "      <th id=\"T_8ba11_level0_row1\" class=\"row_heading level0 row1\" >x_numeric</th>\n",
       "      <td id=\"T_8ba11_row1_col0\" class=\"data row1 col0\" >1.000000</td>\n",
       "    </tr>\n",
       "  </tbody>\n",
       "</table>\n"
      ],
      "text/plain": [
       "<pandas.io.formats.style.Styler at 0x314fe3260>"
      ]
     },
     "execution_count": null,
     "metadata": {},
     "output_type": "execute_result"
    }
   ],
   "source": []
  }
 ],
 "metadata": {
  "kernelspec": {
   "display_name": "work",
   "language": "python",
   "name": "python3"
  },
  "language_info": {
   "codemirror_mode": {
    "name": "ipython",
    "version": 3
   },
   "file_extension": ".py",
   "mimetype": "text/x-python",
   "name": "python",
   "nbconvert_exporter": "python",
   "pygments_lexer": "ipython3",
   "version": "3.12.3"
  },
  "papermill": {
   "default_parameters": {},
   "duration": 4.039314,
   "end_time": "2024-10-25T13:05:10.386839",
   "environment_variables": {},
   "exception": null,
   "input_path": "/Users/sota/Library/CloudStorage/Dropbox-datons/Training/2 Areas/Courses/3 Catalogue/SP/1 Materials/SP/workbook/3_Linear Regression/Python/2_MultiLR 2/1C_.ipynb",
   "output_path": "/Users/sota/Library/CloudStorage/Dropbox-datons/Training/2 Areas/Courses/3 Catalogue/SP/1 Materials/SP/workbook/3_Linear Regression/Python/2_MultiLR 2/1C_.ipynb",
   "parameters": {},
   "start_time": "2024-10-25T13:05:06.347525",
   "version": "2.6.0"
  }
 },
 "nbformat": 4,
 "nbformat_minor": 5
}
